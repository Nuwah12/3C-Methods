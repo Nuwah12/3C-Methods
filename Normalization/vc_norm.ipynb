{
 "cells": [
  {
   "cell_type": "code",
   "execution_count": 1,
   "id": "ebde7d66-8156-4f15-97d4-8468d59095f3",
   "metadata": {
    "tags": []
   },
   "outputs": [],
   "source": [
    "import cooler\n",
    "import numpy as np\n",
    "import h5py\n",
    "import dask\n",
    "import dask.array as da\n",
    "import dask.dataframe as dd\n",
    "from dask.distributed import Client, LocalCluster\n",
    "from dask.diagnostics import ProgressBar"
   ]
  },
  {
   "cell_type": "code",
   "execution_count": 9,
   "id": "f4c00f3b-9e70-48e9-8e63-de7554294d7f",
   "metadata": {
    "tags": []
   },
   "outputs": [
    {
     "data": {
      "text/html": [
       "<div><strong>Dask DataFrame Structure:</strong></div>\n",
       "<div>\n",
       "<style scoped>\n",
       "    .dataframe tbody tr th:only-of-type {\n",
       "        vertical-align: middle;\n",
       "    }\n",
       "\n",
       "    .dataframe tbody tr th {\n",
       "        vertical-align: top;\n",
       "    }\n",
       "\n",
       "    .dataframe thead th {\n",
       "        text-align: right;\n",
       "    }\n",
       "</style>\n",
       "<table border=\"1\" class=\"dataframe\">\n",
       "  <thead>\n",
       "    <tr style=\"text-align: right;\">\n",
       "      <th></th>\n",
       "      <th>bin1</th>\n",
       "      <th>bin2</th>\n",
       "      <th>counts</th>\n",
       "    </tr>\n",
       "    <tr>\n",
       "      <th>npartitions=1844</th>\n",
       "      <th></th>\n",
       "      <th></th>\n",
       "      <th></th>\n",
       "    </tr>\n",
       "  </thead>\n",
       "  <tbody>\n",
       "    <tr>\n",
       "      <th>0</th>\n",
       "      <td>int64</td>\n",
       "      <td>int64</td>\n",
       "      <td>int32</td>\n",
       "    </tr>\n",
       "    <tr>\n",
       "      <th>100000</th>\n",
       "      <td>...</td>\n",
       "      <td>...</td>\n",
       "      <td>...</td>\n",
       "    </tr>\n",
       "    <tr>\n",
       "      <th>...</th>\n",
       "      <td>...</td>\n",
       "      <td>...</td>\n",
       "      <td>...</td>\n",
       "    </tr>\n",
       "    <tr>\n",
       "      <th>184300000</th>\n",
       "      <td>...</td>\n",
       "      <td>...</td>\n",
       "      <td>...</td>\n",
       "    </tr>\n",
       "    <tr>\n",
       "      <th>184314150</th>\n",
       "      <td>...</td>\n",
       "      <td>...</td>\n",
       "      <td>...</td>\n",
       "    </tr>\n",
       "  </tbody>\n",
       "</table>\n",
       "</div>\n",
       "<div>Dask Name: rename, 2 graph layers</div>"
      ],
      "text/plain": [
       "Dask DataFrame Structure:\n",
       "                   bin1   bin2 counts\n",
       "npartitions=1844                     \n",
       "0                 int64  int64  int32\n",
       "100000              ...    ...    ...\n",
       "...                 ...    ...    ...\n",
       "184300000           ...    ...    ...\n",
       "184314150           ...    ...    ...\n",
       "Dask Name: rename, 2 graph layers"
      ]
     },
     "execution_count": 9,
     "metadata": {},
     "output_type": "execute_result"
    }
   ],
   "source": [
    "###### Idea 1: Read in pixel table as hdf5 and convert to dask dataframe\n",
    "cool = 's01_0hr_cl97_MicroC_Granta519.mcool'\n",
    "res = 5000\n",
    "f = h5py.File(cool, 'r')\n",
    "bin1 = da.from_array(f['/resolutions/{}/pixels/bin1_id'.format(res)], chunks=(100000,))\n",
    "bin2 = da.from_array(f['/resolutions/{}/pixels/bin2_id'.format(res)], chunks=(100000,))\n",
    "count = da.from_array(f['/resolutions/{}/pixels/count'.format(res)], chunks=(100000,))\n",
    "df = dd.concat([dd.from_dask_array(d) for d in [bin1, bin2, count]], axis=1)\n",
    "cols = ['bin1','bin2','counts']\n",
    "df_bins = df.rename(columns=dict(zip(df.columns, cols)))\n",
    "df_bins"
   ]
  },
  {
   "cell_type": "code",
   "execution_count": 3,
   "id": "a660b372-a4fe-455a-8742-2db9d3b6a5c6",
   "metadata": {
    "scrolled": true
   },
   "outputs": [
    {
     "name": "stdout",
     "output_type": "stream",
     "text": [
      "[########################################] | 100% Completed | 39.71 s\n"
     ]
    }
   ],
   "source": [
    "## 1.1: Group by bin ID and sum the counts to get row sums\n",
    "# If a df.loc[bin_id] = ERROR, sum is 0\n",
    "# need to compute data size (axis size) here\n",
    "with ProgressBar():\n",
    "    df = df_bins.groupby('bin1').counts.sum().reindex(fill_value=0)"
   ]
  },
  {
   "cell_type": "code",
   "execution_count": 4,
   "id": "a52c66c8-2523-4a61-b99d-557b5388fa53",
   "metadata": {},
   "outputs": [
    {
     "data": {
      "text/html": [
       "<div><strong>Dask DataFrame Structure:</strong></div>\n",
       "<div>\n",
       "<style scoped>\n",
       "    .dataframe tbody tr th:only-of-type {\n",
       "        vertical-align: middle;\n",
       "    }\n",
       "\n",
       "    .dataframe tbody tr th {\n",
       "        vertical-align: top;\n",
       "    }\n",
       "\n",
       "    .dataframe thead th {\n",
       "        text-align: right;\n",
       "    }\n",
       "</style>\n",
       "<table border=\"1\" class=\"dataframe\">\n",
       "  <thead>\n",
       "    <tr style=\"text-align: right;\">\n",
       "      <th></th>\n",
       "      <th>bin1</th>\n",
       "      <th>bin2</th>\n",
       "      <th>counts</th>\n",
       "    </tr>\n",
       "    <tr>\n",
       "      <th>npartitions=1844</th>\n",
       "      <th></th>\n",
       "      <th></th>\n",
       "      <th></th>\n",
       "    </tr>\n",
       "  </thead>\n",
       "  <tbody>\n",
       "    <tr>\n",
       "      <th>0</th>\n",
       "      <td>int64</td>\n",
       "      <td>int64</td>\n",
       "      <td>int32</td>\n",
       "    </tr>\n",
       "    <tr>\n",
       "      <th>100000</th>\n",
       "      <td>...</td>\n",
       "      <td>...</td>\n",
       "      <td>...</td>\n",
       "    </tr>\n",
       "    <tr>\n",
       "      <th>...</th>\n",
       "      <td>...</td>\n",
       "      <td>...</td>\n",
       "      <td>...</td>\n",
       "    </tr>\n",
       "    <tr>\n",
       "      <th>184300000</th>\n",
       "      <td>...</td>\n",
       "      <td>...</td>\n",
       "      <td>...</td>\n",
       "    </tr>\n",
       "    <tr>\n",
       "      <th>184314150</th>\n",
       "      <td>...</td>\n",
       "      <td>...</td>\n",
       "      <td>...</td>\n",
       "    </tr>\n",
       "  </tbody>\n",
       "</table>\n",
       "</div>\n",
       "<div>Dask Name: rename, 2 graph layers</div>"
      ],
      "text/plain": [
       "Dask DataFrame Structure:\n",
       "                   bin1   bin2 counts\n",
       "npartitions=1844                     \n",
       "0                 int64  int64  int32\n",
       "100000              ...    ...    ...\n",
       "...                 ...    ...    ...\n",
       "184300000           ...    ...    ...\n",
       "184314150           ...    ...    ...\n",
       "Dask Name: rename, 2 graph layers"
      ]
     },
     "execution_count": 4,
     "metadata": {},
     "output_type": "execute_result"
    }
   ],
   "source": [
    "df_bins"
   ]
  },
  {
   "cell_type": "code",
   "execution_count": 5,
   "id": "ead322cd-1381-47e5-932c-71dcac3e6fad",
   "metadata": {},
   "outputs": [
    {
     "data": {
      "text/plain": [
       "bin1\n",
       "2          34\n",
       "10         13\n",
       "11         18\n",
       "12         11\n",
       "13          6\n",
       "         ... \n",
       "619077    160\n",
       "619078    880\n",
       "619079    245\n",
       "619080    735\n",
       "619081    363\n",
       "Name: counts, Length: 561645, dtype: int32"
      ]
     },
     "execution_count": 5,
     "metadata": {},
     "output_type": "execute_result"
    }
   ],
   "source": [
    "df"
   ]
  },
  {
   "cell_type": "code",
   "execution_count": 6,
   "id": "ea3139d9-3e37-4dcd-9144-33613e1129cd",
   "metadata": {},
   "outputs": [],
   "source": [
    "def get_VC_norm_factor(x):\n",
    "    i = x['bin1']\n",
    "    j = x['bin2']\n",
    "    c = x['counts']\n",
    "    try:\n",
    "        rf = df.iloc[i]\n",
    "    except:\n",
    "        rf = 0\n",
    "    try:\n",
    "        cf = df.iloc[j]\n",
    "    except:\n",
    "        cf = 0\n",
    "    return c / (cf*rf)"
   ]
  },
  {
   "cell_type": "code",
   "execution_count": 7,
   "id": "d77fb806-6e04-4f0e-8591-536a10565975",
   "metadata": {},
   "outputs": [
    {
     "name": "stdout",
     "output_type": "stream",
     "text": [
      "[                                        ] | 1% Completed | 52.90 sms\n"
     ]
    },
    {
     "name": "stderr",
     "output_type": "stream",
     "text": [
      "\n",
      "KeyboardInterrupt\n",
      "\n"
     ]
    }
   ],
   "source": [
    "import warnings\n",
    "warnings.filterwarnings(\"ignore\")\n",
    "\n",
    "#dask.config.set(scheduler='processes') # Causes error 'h5py objects cant be picked'\n",
    "vc_facts = df_bins.apply(get_VC_norm_factor, axis=1)\n",
    "with ProgressBar():\n",
    "    vc_facts.compute(num_workers=100)"
   ]
  }
 ],
 "metadata": {
  "kernelspec": {
   "display_name": "Python 3 (ipykernel)",
   "language": "python",
   "name": "python3"
  },
  "language_info": {
   "codemirror_mode": {
    "name": "ipython",
    "version": 3
   },
   "file_extension": ".py",
   "mimetype": "text/x-python",
   "name": "python",
   "nbconvert_exporter": "python",
   "pygments_lexer": "ipython3",
   "version": "3.9.18"
  }
 },
 "nbformat": 4,
 "nbformat_minor": 5
}
