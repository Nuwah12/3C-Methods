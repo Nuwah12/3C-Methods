{
 "cells": [
  {
   "cell_type": "code",
   "execution_count": 1,
   "id": "ebde7d66-8156-4f15-97d4-8468d59095f3",
   "metadata": {
    "tags": []
   },
   "outputs": [],
   "source": [
    "import math\n",
    "import cooler\n",
    "import numpy as np\n",
    "import pandas as pd\n",
    "import h5py\n",
    "import dask\n",
    "import dask.array as da\n",
    "import dask.dataframe as dd\n",
    "from dask.distributed import Client, LocalCluster\n",
    "from dask.diagnostics import ProgressBar\n",
    "import zarr"
   ]
  },
  {
   "cell_type": "code",
   "execution_count": 2,
   "id": "f4c00f3b-9e70-48e9-8e63-de7554294d7f",
   "metadata": {
    "tags": []
   },
   "outputs": [
    {
     "data": {
      "text/html": [
       "<div><strong>Dask DataFrame Structure:</strong></div>\n",
       "<div>\n",
       "<style scoped>\n",
       "    .dataframe tbody tr th:only-of-type {\n",
       "        vertical-align: middle;\n",
       "    }\n",
       "\n",
       "    .dataframe tbody tr th {\n",
       "        vertical-align: top;\n",
       "    }\n",
       "\n",
       "    .dataframe thead th {\n",
       "        text-align: right;\n",
       "    }\n",
       "</style>\n",
       "<table border=\"1\" class=\"dataframe\">\n",
       "  <thead>\n",
       "    <tr style=\"text-align: right;\">\n",
       "      <th></th>\n",
       "      <th>bin1</th>\n",
       "      <th>bin2</th>\n",
       "      <th>counts</th>\n",
       "    </tr>\n",
       "    <tr>\n",
       "      <th>npartitions=70</th>\n",
       "      <th></th>\n",
       "      <th></th>\n",
       "      <th></th>\n",
       "    </tr>\n",
       "  </thead>\n",
       "  <tbody>\n",
       "    <tr>\n",
       "      <th>0</th>\n",
       "      <td>int64</td>\n",
       "      <td>int64</td>\n",
       "      <td>int32</td>\n",
       "    </tr>\n",
       "    <tr>\n",
       "      <th>3000000</th>\n",
       "      <td>...</td>\n",
       "      <td>...</td>\n",
       "      <td>...</td>\n",
       "    </tr>\n",
       "    <tr>\n",
       "      <th>...</th>\n",
       "      <td>...</td>\n",
       "      <td>...</td>\n",
       "      <td>...</td>\n",
       "    </tr>\n",
       "    <tr>\n",
       "      <th>207000000</th>\n",
       "      <td>...</td>\n",
       "      <td>...</td>\n",
       "      <td>...</td>\n",
       "    </tr>\n",
       "    <tr>\n",
       "      <th>207915424</th>\n",
       "      <td>...</td>\n",
       "      <td>...</td>\n",
       "      <td>...</td>\n",
       "    </tr>\n",
       "  </tbody>\n",
       "</table>\n",
       "</div>\n",
       "<div>Dask Name: rename, 2 graph layers</div>"
      ],
      "text/plain": [
       "Dask DataFrame Structure:\n",
       "                 bin1   bin2 counts\n",
       "npartitions=70                     \n",
       "0               int64  int64  int32\n",
       "3000000           ...    ...    ...\n",
       "...               ...    ...    ...\n",
       "207000000         ...    ...    ...\n",
       "207915424         ...    ...    ...\n",
       "Dask Name: rename, 2 graph layers"
      ]
     },
     "execution_count": 2,
     "metadata": {},
     "output_type": "execute_result"
    }
   ],
   "source": [
    "###### Idea 1: Read in pixel table as hdf5 and convert to dask dataframe\n",
    "cool = 's38_221203_Granta519EBF1KI_cl27_0hr_MicroC_25U_Nova.mcool'\n",
    "res = 5000\n",
    "f = h5py.File(cool, 'a')\n",
    "bin1 = da.from_array(f['/resolutions/{}/pixels/bin1_id'.format(res)], chunks=(3000000,))\n",
    "bin2 = da.from_array(f['/resolutions/{}/pixels/bin2_id'.format(res)], chunks=(3000000,))\n",
    "count = da.from_array(f['/resolutions/{}/pixels/count'.format(res)], chunks=(3000000,))\n",
    "df = dd.concat([dd.from_dask_array(d) for d in [bin1, bin2, count]], axis=1)\n",
    "cols = ['bin1','bin2','counts']\n",
    "df_bins = df.rename(columns=dict(zip(df.columns, cols)))\n",
    "df_bins"
   ]
  },
  {
   "cell_type": "code",
   "execution_count": 3,
   "id": "b0183764-ab95-45f1-b8c6-cb78387b18cc",
   "metadata": {},
   "outputs": [
    {
     "name": "stdout",
     "output_type": "stream",
     "text": [
      "[########################################] | 100% Completed | 29.33 s\n"
     ]
    }
   ],
   "source": [
    "def correct_upper_triangle(x):\n",
    "    mask = x['bin1'].values != x['bin2'].values\n",
    "    x.loc[mask, 'counts'] *= 2\n",
    "    return x\n",
    "with ProgressBar():\n",
    "    corrected_pixels = df_bins.map_partitions(correct_upper_triangle).compute()"
   ]
  },
  {
   "cell_type": "code",
   "execution_count": 4,
   "id": "426276f9-eead-4671-a67b-062877059f85",
   "metadata": {},
   "outputs": [
    {
     "name": "stdout",
     "output_type": "stream",
     "text": [
      "[########################################] | 100% Completed | 1.90 ss\n"
     ]
    },
    {
     "data": {
      "text/plain": [
       "bin1\n",
       "2          54\n",
       "3           4\n",
       "10         42\n",
       "11         43\n",
       "12         20\n",
       "         ... \n",
       "619140     23\n",
       "627469    413\n",
       "627470    142\n",
       "627471    305\n",
       "627472    111\n",
       "Name: counts, Length: 561450, dtype: int32"
      ]
     },
     "execution_count": 4,
     "metadata": {},
     "output_type": "execute_result"
    }
   ],
   "source": [
    "# Sum rows\n",
    "with ProgressBar():\n",
    "    corrected_rowSums = dd.from_pandas(corrected_pixels, chunksize=3000000).groupby(\"bin1\").counts.sum().compute()\n",
    "corrected_rowSums"
   ]
  },
  {
   "cell_type": "code",
   "execution_count": 5,
   "id": "3669e58f-95a4-48dc-ba1b-5e3b27dafe53",
   "metadata": {},
   "outputs": [],
   "source": [
    "# Store full matrix size\n",
    "mat_size = da.from_array(f['/resolutions/{}/bins/chrom'.format(res)]).size"
   ]
  },
  {
   "cell_type": "code",
   "execution_count": 6,
   "id": "85ff920d-f3a3-444d-b8e9-e7e7d3b1d1e9",
   "metadata": {},
   "outputs": [
    {
     "data": {
      "text/plain": [
       "bin1\n",
       "0          0\n",
       "1          0\n",
       "2         54\n",
       "3          4\n",
       "4          0\n",
       "          ..\n",
       "627473     0\n",
       "627474     0\n",
       "627475     0\n",
       "627476     0\n",
       "627477     0\n",
       "Name: counts, Length: 627478, dtype: int32"
      ]
     },
     "execution_count": 6,
     "metadata": {},
     "output_type": "execute_result"
    }
   ],
   "source": [
    "# Reindex and fill with 0\n",
    "corrected_rowSums = corrected_rowSums.reindex(range(0,mat_size), fill_value=0)\n",
    "corrected_rowSums"
   ]
  },
  {
   "cell_type": "code",
   "execution_count": 9,
   "id": "732c6034-0c87-41a9-b58d-63a47c1251cd",
   "metadata": {},
   "outputs": [
    {
     "name": "stdout",
     "output_type": "stream",
     "text": [
      "Rowsums and matrix sizes match\n"
     ]
    }
   ],
   "source": [
    "if len(corrected_rowSums) == mat_size: print('Rowsums and matrix sizes match') # Sanity check for making sure row count length = matrix size)\n",
    "else:     print('No matchy')"
   ]
  },
  {
   "cell_type": "code",
   "execution_count": 12,
   "id": "04c986bc-d0ef-40c9-be9f-8eb161866994",
   "metadata": {},
   "outputs": [
    {
     "data": {
      "text/html": [
       "<div>\n",
       "<style scoped>\n",
       "    .dataframe tbody tr th:only-of-type {\n",
       "        vertical-align: middle;\n",
       "    }\n",
       "\n",
       "    .dataframe tbody tr th {\n",
       "        vertical-align: top;\n",
       "    }\n",
       "\n",
       "    .dataframe thead th {\n",
       "        text-align: right;\n",
       "    }\n",
       "</style>\n",
       "<table border=\"1\" class=\"dataframe\">\n",
       "  <thead>\n",
       "    <tr style=\"text-align: right;\">\n",
       "      <th></th>\n",
       "      <th>bin1</th>\n",
       "      <th>bin2</th>\n",
       "      <th>counts</th>\n",
       "    </tr>\n",
       "  </thead>\n",
       "  <tbody>\n",
       "    <tr>\n",
       "      <th>0</th>\n",
       "      <td>2</td>\n",
       "      <td>50195</td>\n",
       "      <td>2</td>\n",
       "    </tr>\n",
       "    <tr>\n",
       "      <th>1</th>\n",
       "      <td>2</td>\n",
       "      <td>103475</td>\n",
       "      <td>2</td>\n",
       "    </tr>\n",
       "    <tr>\n",
       "      <th>2</th>\n",
       "      <td>2</td>\n",
       "      <td>108205</td>\n",
       "      <td>2</td>\n",
       "    </tr>\n",
       "    <tr>\n",
       "      <th>3</th>\n",
       "      <td>2</td>\n",
       "      <td>127201</td>\n",
       "      <td>2</td>\n",
       "    </tr>\n",
       "    <tr>\n",
       "      <th>4</th>\n",
       "      <td>2</td>\n",
       "      <td>127970</td>\n",
       "      <td>2</td>\n",
       "    </tr>\n",
       "    <tr>\n",
       "      <th>...</th>\n",
       "      <td>...</td>\n",
       "      <td>...</td>\n",
       "      <td>...</td>\n",
       "    </tr>\n",
       "    <tr>\n",
       "      <th>207915420</th>\n",
       "      <td>627470</td>\n",
       "      <td>627471</td>\n",
       "      <td>86</td>\n",
       "    </tr>\n",
       "    <tr>\n",
       "      <th>207915421</th>\n",
       "      <td>627470</td>\n",
       "      <td>627472</td>\n",
       "      <td>36</td>\n",
       "    </tr>\n",
       "    <tr>\n",
       "      <th>207915422</th>\n",
       "      <td>627471</td>\n",
       "      <td>627471</td>\n",
       "      <td>207</td>\n",
       "    </tr>\n",
       "    <tr>\n",
       "      <th>207915423</th>\n",
       "      <td>627471</td>\n",
       "      <td>627472</td>\n",
       "      <td>98</td>\n",
       "    </tr>\n",
       "    <tr>\n",
       "      <th>207915424</th>\n",
       "      <td>627472</td>\n",
       "      <td>627472</td>\n",
       "      <td>111</td>\n",
       "    </tr>\n",
       "  </tbody>\n",
       "</table>\n",
       "<p>207915425 rows × 3 columns</p>\n",
       "</div>"
      ],
      "text/plain": [
       "             bin1    bin2  counts\n",
       "0               2   50195       2\n",
       "1               2  103475       2\n",
       "2               2  108205       2\n",
       "3               2  127201       2\n",
       "4               2  127970       2\n",
       "...           ...     ...     ...\n",
       "207915420  627470  627471      86\n",
       "207915421  627470  627472      36\n",
       "207915422  627471  627471     207\n",
       "207915423  627471  627472      98\n",
       "207915424  627472  627472     111\n",
       "\n",
       "[207915425 rows x 3 columns]"
      ]
     },
     "execution_count": 12,
     "metadata": {},
     "output_type": "execute_result"
    }
   ],
   "source": [
    "corrected_pixels"
   ]
  },
  {
   "cell_type": "code",
   "execution_count": 22,
   "id": "4a726eb9-ce32-44be-a0e7-219bfc6ae3e7",
   "metadata": {},
   "outputs": [],
   "source": [
    "i = corrected_pixels['bin1'].values\n",
    "j = corrected_pixels['bin2'].values"
   ]
  },
  {
   "cell_type": "code",
   "execution_count": 27,
   "id": "9951f33b-573d-43c1-8388-de80dc40d3ec",
   "metadata": {},
   "outputs": [],
   "source": [
    "rf = corrected_rowSums[i].values\n",
    "cf = corrected_rowSums[j].values"
   ]
  },
  {
   "cell_type": "code",
   "execution_count": 30,
   "id": "414202ff-5ef3-491e-ac62-bf124e455081",
   "metadata": {},
   "outputs": [],
   "source": [
    "scaled_pixels = corrected_pixels['counts'] / (rf*cf)"
   ]
  },
  {
   "cell_type": "code",
   "execution_count": 33,
   "id": "a59d5cae-35d7-4f31-9a01-c841031030fc",
   "metadata": {},
   "outputs": [],
   "source": [
    "scaled_pixels.replace([np.inf], 0, inplace=True)"
   ]
  },
  {
   "cell_type": "code",
   "execution_count": 38,
   "id": "e660d39c-e8c2-45fa-a760-7d6f0d3f9ed1",
   "metadata": {},
   "outputs": [],
   "source": [
    "scaled_sum = scaled_pixels.sum()"
   ]
  },
  {
   "cell_type": "code",
   "execution_count": 39,
   "id": "907f4f83-b571-4250-b1d9-47597e3789e4",
   "metadata": {},
   "outputs": [],
   "source": [
    "raw_sum = corrected_pixels['counts'].sum()"
   ]
  },
  {
   "cell_type": "code",
   "execution_count": 40,
   "id": "429b9c87-c93f-4bd2-acde-07e9766b78b0",
   "metadata": {},
   "outputs": [
    {
     "data": {
      "text/plain": [
       "0.0005534767907410328"
      ]
     },
     "execution_count": 40,
     "metadata": {},
     "output_type": "execute_result"
    }
   ],
   "source": [
    "scale = np.sqrt(scaled_sum/raw_sum)\n",
    "scale"
   ]
  },
  {
   "cell_type": "code",
   "execution_count": 44,
   "id": "93b8d145-ac00-490d-a7f2-8739fb6ae3b8",
   "metadata": {},
   "outputs": [
    {
     "data": {
      "text/plain": [
       "array([0.        , 0.        , 0.02988775, ..., 0.        , 0.        ,\n",
       "       0.        ])"
      ]
     },
     "execution_count": 44,
     "metadata": {},
     "output_type": "execute_result"
    }
   ],
   "source": [
    "scaled_rowSums = corrected_rowSums * scale\n",
    "scaled_rowSums.values"
   ]
  },
  {
   "cell_type": "code",
   "execution_count": 45,
   "id": "977745e3-53d7-45f7-9208-db41a2e89dfc",
   "metadata": {},
   "outputs": [],
   "source": [
    "# Save scaled rowsums back into hdf\n",
    "del f['/resolutions/{}/bins/test_weights'.format(res)]\n",
    "f.create_dataset('/resolutions/{}/bins/test_weights'.format(res), data=scaled_rowSums)\n",
    "f.close()"
   ]
  },
  {
   "cell_type": "code",
   "execution_count": 51,
   "id": "e2f35fad-01c5-4899-b389-85daaeb12527",
   "metadata": {},
   "outputs": [
    {
     "data": {
      "text/html": [
       "<div>\n",
       "<style scoped>\n",
       "    .dataframe tbody tr th:only-of-type {\n",
       "        vertical-align: middle;\n",
       "    }\n",
       "\n",
       "    .dataframe tbody tr th {\n",
       "        vertical-align: top;\n",
       "    }\n",
       "\n",
       "    .dataframe thead th {\n",
       "        text-align: right;\n",
       "    }\n",
       "</style>\n",
       "<table border=\"1\" class=\"dataframe\">\n",
       "  <thead>\n",
       "    <tr style=\"text-align: right;\">\n",
       "      <th></th>\n",
       "      <th>chrom</th>\n",
       "      <th>start</th>\n",
       "      <th>end</th>\n",
       "      <th>KR</th>\n",
       "      <th>VC</th>\n",
       "      <th>VC_SQRT</th>\n",
       "      <th>test_weights</th>\n",
       "    </tr>\n",
       "  </thead>\n",
       "  <tbody>\n",
       "    <tr>\n",
       "      <th>5000</th>\n",
       "      <td>1</td>\n",
       "      <td>25000000</td>\n",
       "      <td>25005000</td>\n",
       "      <td>0.766987</td>\n",
       "      <td>0.765568</td>\n",
       "      <td>0.760951</td>\n",
       "      <td>0.689632</td>\n",
       "    </tr>\n",
       "    <tr>\n",
       "      <th>5001</th>\n",
       "      <td>1</td>\n",
       "      <td>25005000</td>\n",
       "      <td>25010000</td>\n",
       "      <td>0.802792</td>\n",
       "      <td>0.801334</td>\n",
       "      <td>0.778523</td>\n",
       "      <td>0.732803</td>\n",
       "    </tr>\n",
       "    <tr>\n",
       "      <th>5002</th>\n",
       "      <td>1</td>\n",
       "      <td>25010000</td>\n",
       "      <td>25015000</td>\n",
       "      <td>0.707450</td>\n",
       "      <td>0.699996</td>\n",
       "      <td>0.727633</td>\n",
       "      <td>0.680776</td>\n",
       "    </tr>\n",
       "    <tr>\n",
       "      <th>5003</th>\n",
       "      <td>1</td>\n",
       "      <td>25015000</td>\n",
       "      <td>25020000</td>\n",
       "      <td>0.816580</td>\n",
       "      <td>0.829436</td>\n",
       "      <td>0.792057</td>\n",
       "      <td>0.889437</td>\n",
       "    </tr>\n",
       "    <tr>\n",
       "      <th>5004</th>\n",
       "      <td>1</td>\n",
       "      <td>25020000</td>\n",
       "      <td>25025000</td>\n",
       "      <td>0.780722</td>\n",
       "      <td>0.791115</td>\n",
       "      <td>0.773543</td>\n",
       "      <td>0.812504</td>\n",
       "    </tr>\n",
       "    <tr>\n",
       "      <th>5005</th>\n",
       "      <td>1</td>\n",
       "      <td>25025000</td>\n",
       "      <td>25030000</td>\n",
       "      <td>0.780396</td>\n",
       "      <td>0.780045</td>\n",
       "      <td>0.768112</td>\n",
       "      <td>0.730036</td>\n",
       "    </tr>\n",
       "    <tr>\n",
       "      <th>5006</th>\n",
       "      <td>1</td>\n",
       "      <td>25030000</td>\n",
       "      <td>25035000</td>\n",
       "      <td>0.622555</td>\n",
       "      <td>0.585034</td>\n",
       "      <td>0.665204</td>\n",
       "      <td>0.627089</td>\n",
       "    </tr>\n",
       "    <tr>\n",
       "      <th>5007</th>\n",
       "      <td>1</td>\n",
       "      <td>25035000</td>\n",
       "      <td>25040000</td>\n",
       "      <td>0.685397</td>\n",
       "      <td>0.668488</td>\n",
       "      <td>0.711069</td>\n",
       "      <td>0.650889</td>\n",
       "    </tr>\n",
       "    <tr>\n",
       "      <th>5008</th>\n",
       "      <td>1</td>\n",
       "      <td>25040000</td>\n",
       "      <td>25045000</td>\n",
       "      <td>0.929117</td>\n",
       "      <td>0.951212</td>\n",
       "      <td>0.848210</td>\n",
       "      <td>0.896079</td>\n",
       "    </tr>\n",
       "    <tr>\n",
       "      <th>5009</th>\n",
       "      <td>1</td>\n",
       "      <td>25045000</td>\n",
       "      <td>25050000</td>\n",
       "      <td>0.601072</td>\n",
       "      <td>0.572260</td>\n",
       "      <td>0.657902</td>\n",
       "      <td>0.540747</td>\n",
       "    </tr>\n",
       "  </tbody>\n",
       "</table>\n",
       "</div>"
      ],
      "text/plain": [
       "     chrom     start       end        KR        VC   VC_SQRT  test_weights\n",
       "5000     1  25000000  25005000  0.766987  0.765568  0.760951      0.689632\n",
       "5001     1  25005000  25010000  0.802792  0.801334  0.778523      0.732803\n",
       "5002     1  25010000  25015000  0.707450  0.699996  0.727633      0.680776\n",
       "5003     1  25015000  25020000  0.816580  0.829436  0.792057      0.889437\n",
       "5004     1  25020000  25025000  0.780722  0.791115  0.773543      0.812504\n",
       "5005     1  25025000  25030000  0.780396  0.780045  0.768112      0.730036\n",
       "5006     1  25030000  25035000  0.622555  0.585034  0.665204      0.627089\n",
       "5007     1  25035000  25040000  0.685397  0.668488  0.711069      0.650889\n",
       "5008     1  25040000  25045000  0.929117  0.951212  0.848210      0.896079\n",
       "5009     1  25045000  25050000  0.601072  0.572260  0.657902      0.540747"
      ]
     },
     "execution_count": 51,
     "metadata": {},
     "output_type": "execute_result"
    }
   ],
   "source": [
    "clr = cooler.Cooler(\"{}::resolutions/{}\".format(cool, res))\n",
    "clr.bins()[5000:5010]"
   ]
  },
  {
   "cell_type": "code",
   "execution_count": null,
   "id": "03f19361-f0a6-477b-8b35-696d5bd0a0fb",
   "metadata": {},
   "outputs": [],
   "source": []
  }
 ],
 "metadata": {
  "kernelspec": {
   "display_name": "Python 3 (ipykernel)",
   "language": "python",
   "name": "python3"
  },
  "language_info": {
   "codemirror_mode": {
    "name": "ipython",
    "version": 3
   },
   "file_extension": ".py",
   "mimetype": "text/x-python",
   "name": "python",
   "nbconvert_exporter": "python",
   "pygments_lexer": "ipython3",
   "version": "3.9.18"
  }
 },
 "nbformat": 4,
 "nbformat_minor": 5
}
